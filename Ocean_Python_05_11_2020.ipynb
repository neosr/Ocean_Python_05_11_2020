{
  "nbformat": 4,
  "nbformat_minor": 0,
  "metadata": {
    "colab": {
      "name": "Ocean_Python_05_11_2020.ipynb",
      "provenance": [],
      "collapsed_sections": []
    },
    "kernelspec": {
      "name": "python3",
      "display_name": "Python 3"
    }
  },
  "cells": [
    {
      "cell_type": "code",
      "metadata": {
        "id": "LU-1kJjJKt6S",
        "outputId": "d2009c31-3d15-4e76-e3f5-127f95a87e55",
        "colab": {
          "base_uri": "https://localhost:8080/"
        }
      },
      "source": [
        "def conversor_temperatura(tipo, temperatura):\n",
        "  if tipo == 'c':\n",
        "    celsius = temperatura\n",
        "    farenheit = (9 * celsius / 5) + 32\n",
        "    print(f'{celsius:.2f}ºC é igual a {farenheit:.2f}Fº')\n",
        "  elif tipo == 'f':\n",
        "    farenheit = temperatura\n",
        "    celsius = 5 * (farenheit - 32) / 9\n",
        "    print(f'{farenheit:.2f}ºF é igual a {celsius:.2f}Cº')\n",
        "\n",
        "\n",
        "tipo_temperatura = input('celsius ou farenheit (C ou F): ').strip().lower()\n",
        "temperatura = float(input(f'Digite a temperatura, em {tipo_temperatura.upper()}º: '))\n",
        "conversor_temperatura(tipo_temperatura, temperatura)\n",
        "\n",
        "conversor_temperatura('f', 212)"
      ],
      "execution_count": 2,
      "outputs": [
        {
          "output_type": "stream",
          "text": [
            "celsius ou farenheit (C ou F): c\n",
            "Digite a temperatura, em Cº: 999\n",
            "999.00ºC é igual a 1830.20Fº\n",
            "212.00ºF é igual a 100.00Cº\n"
          ],
          "name": "stdout"
        }
      ]
    },
    {
      "cell_type": "code",
      "metadata": {
        "id": "cuUKqorVQjm7",
        "outputId": "a1c0f0f8-d064-4a3a-ac7a-a25602077a8e",
        "colab": {
          "base_uri": "https://localhost:8080/"
        }
      },
      "source": [
        "def conversor_temperatura(tipo, temperatura):\n",
        "  if tipo == 'c':\n",
        "    celsius = temperatura\n",
        "    farenheit = (9 * celsius / 5) + 32\n",
        "\n",
        "    return farenheit\n",
        "  elif tipo == 'f':\n",
        "    farenheit = temperatura\n",
        "    celsius = 5 * (farenheit - 32) / 9\n",
        "\n",
        "    return celsius\n",
        "\n",
        "\n",
        "def main():\n",
        "  tipo_temperatura = input('Deseja converter celsius ou farenheit (C ou F): ').strip().lower()\n",
        "\n",
        "  if tipo_temperatura != 'c' and tipo_temperatura != 'f':\n",
        "    print('Tipo não suportado.')\n",
        "    main()\n",
        "  else:\n",
        "    temperatura = float(input(f'Digite a temperatura, em {tipo_temperatura.upper()}º: '))\n",
        "    temperatura_convertida = conversor_temperatura(tipo_temperatura, temperatura)\n",
        "\n",
        "    tipo_conversao = 'f' if tipo_temperatura == 'c' else 'c'\n",
        "\n",
        "    print(f'{temperatura:.2f}º{tipo_temperatura.upper()} é igual a {temperatura_convertida:.2f}{tipo_conversao.upper()}º')\n",
        "\n",
        "\n",
        "main()"
      ],
      "execution_count": 19,
      "outputs": [
        {
          "output_type": "stream",
          "text": [
            "Deseja converter celsius ou farenheit (C ou F): c\n",
            "Digite a temperatura, em Cº: 100\n",
            "100.00ºC é igual a 212.00Fº\n"
          ],
          "name": "stdout"
        }
      ]
    },
    {
      "cell_type": "code",
      "metadata": {
        "id": "ZUBoL6reR7HJ",
        "outputId": "4a914e5a-b748-462b-b377-de4164fc2316",
        "colab": {
          "base_uri": "https://localhost:8080/"
        }
      },
      "source": [
        "# Operador ternário no Python\n",
        "\n",
        "idade = 15\n",
        "\n",
        "maior_idade = idade >= 18\n",
        "\n",
        "documento = 'cnh' if maior_idade else 'rg'\n",
        "print(documento)"
      ],
      "execution_count": 12,
      "outputs": [
        {
          "output_type": "stream",
          "text": [
            "rg\n"
          ],
          "name": "stdout"
        }
      ]
    }
  ]
}